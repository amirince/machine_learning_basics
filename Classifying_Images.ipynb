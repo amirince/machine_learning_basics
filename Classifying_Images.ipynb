{
  "nbformat": 4,
  "nbformat_minor": 0,
  "metadata": {
    "colab": {
      "private_outputs": true,
      "provenance": [],
      "collapsed_sections": [
        "copyright"
      ],
      "toc_visible": true
    },
    "kernelspec": {
      "name": "python3",
      "display_name": "Python 3"
    }
  },
  "cells": [
    {
      "cell_type": "markdown",
      "metadata": {
        "id": "copyright"
      },
      "source": [
        "#### Copyright 2021 Google LLC.\n",
        "\n",
        "SPDX-License-Identifier: Apache-2.0"
      ]
    },
    {
      "cell_type": "code",
      "metadata": {
        "id": "JxI782D_VLzp"
      },
      "source": [
        "# Licensed under the Apache License, Version 2.0 (the \"License\");\n",
        "# you may not use this file except in compliance with the License.\n",
        "# You may obtain a copy of the License at\n",
        "#\n",
        "# https://www.apache.org/licenses/LICENSE-2.0\n",
        "#\n",
        "# Unless required by applicable law or agreed to in writing, software\n",
        "# distributed under the License is distributed on an \"AS IS\" BASIS,\n",
        "# WITHOUT WARRANTIES OR CONDITIONS OF ANY KIND, either express or implied.\n",
        "# See the License for the specific language governing permissions and\n",
        "# limitations under the License."
      ],
      "execution_count": null,
      "outputs": []
    },
    {
      "cell_type": "markdown",
      "metadata": {
        "id": "MKsRDH5ZUdfasdv"
      },
      "source": [
        "# Classifying Images\n"
      ]
    },
    {
      "cell_type": "markdown",
      "metadata": {
        "id": "43534tdfgs-v"
      },
      "source": [
        "This assignment is about classifying images. Each input is a grid of pixel values, and each output is a label from a small set of labels. You will start with a simple binary linear classifier and finish with a multi-class neural network classifier."
      ]
    },
    {
      "cell_type": "markdown",
      "metadata": {
        "id": "overview"
      },
      "source": [
        "---\n",
        "## Overview"
      ]
    },
    {
      "cell_type": "markdown",
      "metadata": {
        "id": "rY7emKinFRCr"
      },
      "source": [
        "###Learning Objectives\n",
        "* Understand how classification with logistic regression relates to linear regression.\n",
        "* Understand image classification using pixel values as features.\n",
        "* Construct a binary classification task and train a model with Tensorflow.\n",
        "* Evaluate a classifier using accuracy, precision and recall.\n",
        "* Interpret a confusion matrix for a binary classification model.\n",
        "* Train a multi-class logistic regression model, then extend it to a feed-forward neural network.\n"
      ]
    },
    {
      "cell_type": "markdown",
      "metadata": {
        "id": "6gKL1mrkyLux"
      },
      "source": [
        "### Grading\n",
        "\n",
        "This assignment (exercises 1-8) is worth a total of 40 points."
      ]
    },
    {
      "cell_type": "code",
      "metadata": {
        "id": "7X58hOMTUH-w"
      },
      "source": [
        "# Import the libraries we'll use below.\n",
        "import numpy as np\n",
        "from matplotlib import pyplot as plt\n",
        "import pandas as pd\n",
        "import seaborn as sns  # for nicer plots\n",
        "sns.set(style='darkgrid')  # default style\n",
        "\n",
        "import tensorflow as tf\n",
        "from tensorflow import keras\n",
        "from keras import metrics"
      ],
      "execution_count": null,
      "outputs": []
    },
    {
      "cell_type": "markdown",
      "metadata": {
        "id": "rHLcriKWLRe4"
      },
      "source": [
        "---\n",
        "\n",
        "## Understanding the data\n",
        "We'll train models on the [Fashion MNIST](https://github.com/zalandoresearch/fashion-mnist) dataset that we've used as an example in lecture over the last few weeks. This consists of 70,000 grayscale images (28x28). Each image is associated with 1 of 10 classes. The dataset was split by the creators; there are 60,000 training images and 10,000 test images.\n",
        "\n",
        "Fashion MNIST classes:\n",
        "* T-shirt/top\n",
        "* Trouser\n",
        "* Pullover\n",
        "* Dress\n",
        "* Coat\n",
        "* Sandal\n",
        "* Shirt\n",
        "* Sneaker\n",
        "* Bag\n",
        "* Ankle boot\n",
        "\n",
        "Before doing any training (or evaluating), let's make sure we understand what we're working with."
      ]
    },
    {
      "cell_type": "markdown",
      "metadata": {
        "id": "load_auto_data_set_text"
      },
      "source": [
        "### Load the data\n",
        "TensorFlow includes a growing [library of datasets](https://www.tensorflow.org/datasets/catalog/overview) that can be easily loaded into numpy arrays:"
      ]
    },
    {
      "cell_type": "code",
      "metadata": {
        "id": "load_auto_data_set_code"
      },
      "source": [
        "from keras.datasets import fashion_mnist\n",
        "\n",
        "# Load the Fashion MNIST dataset. The label for X_train[0] is in Y_train[0], the label for X_test[0] is in Y_test[0], etc.\n",
        "(X_train, Y_train), (X_test, Y_test) = fashion_mnist.load_data()\n",
        "\n",
        "np.random.seed(0) # \"seed\" the random number generator to more easily reproduce the same results.\n",
        "\n",
        "# Shuffle the order of the *training* examples.\n",
        "indices = np.arange(X_train.shape[0])\n",
        "shuffled_indices = np.random.permutation(indices)\n",
        "\n",
        "X_train = X_train[shuffled_indices]\n",
        "Y_train = Y_train[shuffled_indices]"
      ],
      "execution_count": null,
      "outputs": []
    },
    {
      "cell_type": "markdown",
      "metadata": {
        "id": "Eg9mUz9zcIil"
      },
      "source": [
        "### Basic Analysis\n",
        "Notice that `X_train`, `Y_train`, `X_test`, and `Y_test` are all numpy arrays. Let's print their shapes to confirm."
      ]
    },
    {
      "cell_type": "code",
      "metadata": {
        "id": "H6jGmsYAdKEK"
      },
      "source": [
        "# Show the data shapes.\n",
        "print('X_train.shape:', X_train.shape)\n",
        "print('Y_train.shape:', Y_train.shape)\n",
        "print('X_test.shape:', X_test.shape)\n",
        "print('Y_test.shape:', Y_test.shape)"
      ],
      "execution_count": null,
      "outputs": []
    },
    {
      "cell_type": "markdown",
      "metadata": {
        "id": "fDeim44-dler"
      },
      "source": [
        "Notice that there are 60,000 instances in `X_train`. Each of these is a grayscale image represented by an 28-by-28 array of grayscale pixel values between 0 and 255 (the larger the value, the lighter the pixel):"
      ]
    },
    {
      "cell_type": "code",
      "source": [
        "print(\"first row of the first image in X_train:\\n\", X_train[0, 0, :])"
      ],
      "metadata": {
        "id": "v_1vgkLqh5hL"
      },
      "execution_count": null,
      "outputs": []
    },
    {
      "cell_type": "markdown",
      "source": [
        "Before we continue, let's apply linear scaling to our pixel values, so they all fall between 0 and 1:"
      ],
      "metadata": {
        "id": "5MAp1xiAh5x5"
      }
    },
    {
      "cell_type": "code",
      "metadata": {
        "id": "wXukkWBWdlGj"
      },
      "source": [
        "# Pixel values range from 0 to 255. To normalize the data, we just need to\n",
        "# divide all values by 255.\n",
        "#\n",
        "# NOTE: only run this once, or else you will divide your data by 255 multiple times.\n",
        "X_train = X_train / 255\n",
        "X_test = X_test / 255\n",
        "\n",
        "print(\"First row of the first image in X_train, normalized:\\n\", X_train[0, 0, :])"
      ],
      "execution_count": null,
      "outputs": []
    },
    {
      "cell_type": "markdown",
      "metadata": {
        "id": "oWsOQ3tbCOA7"
      },
      "source": [
        "In the previous lab, our input data had just a few features. Here, we treat **every pixel value as a separate feature**, so each input example has 28x28 (784) features!\n",
        "\n",
        "Fashion MNIST images have one of 10 possible labels (shown above). Since the labels are indices 0-9, let's keep a list of (string) names for convenience."
      ]
    },
    {
      "cell_type": "code",
      "metadata": {
        "id": "cZpFxxStzSrP"
      },
      "source": [
        "label_names = ['t-shirt', 'trouser', 'pullover', 'dress', 'coat',\n",
        "               'sandal', 'shirt', 'sneaker', 'bag', 'ankle boot']\n",
        "\n",
        "# Show the first 5 training labels.\n",
        "print('First 5 label values:', Y_train[0:5])\n",
        "print('Mapped to their names:', [label_names[i] for i in Y_train[0:5]])"
      ],
      "execution_count": null,
      "outputs": []
    },
    {
      "cell_type": "markdown",
      "metadata": {
        "id": "c5aXeK2VznCW"
      },
      "source": [
        "Next let's use the `imshow` function to look at the first few images in the training set."
      ]
    },
    {
      "cell_type": "code",
      "metadata": {
        "id": "7mfV9b4I7cMW"
      },
      "source": [
        "# Create a figure with subplots. This returns a list of object handles in axs\n",
        "# which we can use populate the plots.\n",
        "fig, axs = plt.subplots(nrows=1, ncols=5, figsize=(10,5))\n",
        "for i in range(5):\n",
        "  image = X_train[i]\n",
        "  label = Y_train[i]\n",
        "  label_name = label_names[label]\n",
        "  axs[i].imshow(image, cmap='gray')  # imshow renders a 2D grid\n",
        "  axs[i].set_title(label_name)\n",
        "  axs[i].axis('off')\n",
        "plt.show()"
      ],
      "execution_count": null,
      "outputs": []
    },
    {
      "cell_type": "markdown",
      "metadata": {
        "id": "aFx7Ts3b6N6d"
      },
      "source": [
        "#### Exercise 1 (5 points)\n",
        "\n",
        "Display the first 5 images for each class in a 10 x 5 grid. We have provided a helper function, `plot_images()`, to assist with this."
      ]
    },
    {
      "cell_type": "markdown",
      "metadata": {
        "id": "NiJInaRk6TbO"
      },
      "source": [
        "######Student Solution"
      ]
    },
    {
      "cell_type": "code",
      "metadata": {
        "id": "HJtwrjdO6TbS"
      },
      "source": [
        "def plot_images(imgs, labels, figsize=(7, 5)):\n",
        "  fig, axs = plt.subplots(1, 5, figsize=figsize)\n",
        "\n",
        "  for img, ax in zip(imgs, axs.flatten()):\n",
        "    ax.imshow(img, cmap='gray')\n",
        "    ax.set_title(labels)\n",
        "    ax.axis('off')\n",
        "  plt.show()\n"
      ],
      "execution_count": null,
      "outputs": []
    },
    {
      "cell_type": "code",
      "source": [
        "# Dictionary to store the index of the first 5 occurrences of each number\n",
        "first_five_indices = {num: [] for num in range(10)}\n",
        "\n",
        "for key, value in enumerate(first_five_indices):\n",
        "  value = np.where(Y_train==key)\n",
        "  value = value[0:5]\n",
        "  plot_images(X_train[value],label_names[key])\n"
      ],
      "metadata": {
        "id": "e_iZyML0jf4o"
      },
      "execution_count": null,
      "outputs": []
    },
    {
      "cell_type": "markdown",
      "metadata": {
        "id": "qNvSx5tybqMR"
      },
      "source": [
        "---\n",
        "## Problem Definition: Sneaker Classifier\n",
        "There are many things we can do with this dataset. Let's first start with binary classification. We'll train a sneaker classifier, using sneaker images as our positive examples (\"$y=1$\" <-> \"sneaker\" <-> class 7) and all other images as negative examples (\"$y=0$\" <-> \"non-sneaker\" <-> classes 0, 1, 2, 3, 4, 5, 6, 8, 9).\n",
        "\n",
        "Once we've trained a model, it will produce predictions $\\hat{y}$, the probability that an input image $x$ is a sneaker."
      ]
    },
    {
      "cell_type": "markdown",
      "metadata": {
        "id": "E01QY9SRpwPE"
      },
      "source": [
        "### Logistic Regression\n",
        "\n",
        "Recall that logistic regression is an application of the logistic (sigmoid) function to the linear regression model:\n",
        "\n",
        "\\begin{equation}\n",
        "y(z)=\\frac{1}{1+e^{-z}}\n",
        "\\end{equation}\n",
        "\n",
        "<center>\n",
        "<img src=\"https://developers.google.com/machine-learning/crash-course/images/SigmoidFunction.png\" alt=\"Sigmoid Function\" width=\"45%\"/>\n",
        "</center>\n",
        "\n",
        "where:\n",
        "\n",
        "\\begin{equation}\n",
        "z= b + w_1x_1 + w_2x_2 + ... + w_nx_n.\n",
        "\\end{equation}\n",
        "\n",
        "In order to map a logistic regression value to a label, a classification threshold needs to be defined. A value above or equal to that threshold indicates that the input should be classified as positive (e.g., sneaker); a value below the threshold indicates that the input should be classified as negative (e.g., non-sneaker).\n",
        "\n",
        "\n"
      ]
    },
    {
      "cell_type": "markdown",
      "metadata": {
        "id": "PsfzNnVFwh0K"
      },
      "source": [
        "#### Log Loss\n",
        "\n",
        "The loss function for logistic regression is Log Loss (also known as binary cross-entropy), which is defined as follows:\n",
        "\n",
        "\\begin{equation}\n",
        "-\\frac{1}{|Y|} \\sum_{y_i \\in Y}y_i log(\\hat{y}_i) + (1−y_i)log(1−\\hat{y}_i)\n",
        "\\end{equation}\n",
        "\n",
        "Remember that $y$ is either 0 or 1, so either the left term or the right term is active for each example.\n",
        "\n",
        "Log loss is differentiable and convex, and as we have seen, the gradient turns out to be identical to that of MSE in linear regression."
      ]
    },
    {
      "cell_type": "markdown",
      "metadata": {
        "id": "DvcJJ_rUifF2"
      },
      "source": [
        "### Data Preprocessing\n",
        "Before we continue, we need to prepare the data for this binary classification task. We'll map sneaker image labels to 1 (the positive class) and all other image labels to 0 (the negative class).\n",
        "\n",
        "Programming note: Numpy allows us to perform what is called [boolean array indexing](https://docs.scipy.org/doc/numpy/reference/arrays.indexing.html#boolean-array-indexing).\n",
        "This means that a numpy array $A$ can be indexed using a boolean array $B$\n",
        "as follows: $A[B]$.\n",
        "We'll take advantage of this type of indexing to prepare the labels for our binary classification task below."
      ]
    },
    {
      "cell_type": "code",
      "metadata": {
        "id": "3webN4USifuB"
      },
      "source": [
        "# Make copies of the original labels.\n",
        "Y_train_binary = np.copy(Y_train)\n",
        "Y_test_binary = np.copy(Y_test)\n",
        "\n",
        "# Update labels: 1 for sneaker images; 0 for the rest.\n",
        "# Note that a boolean array is created when Y_train_binary != 7 is evaluated.\n",
        "Y_train_binary[Y_train_binary != 7] = 0.0\n",
        "Y_train_binary[Y_train_binary == 7] = 1.0\n",
        "Y_test_binary[Y_test_binary != 7] = 0.0\n",
        "Y_test_binary[Y_test_binary == 7] = 1.0"
      ],
      "execution_count": null,
      "outputs": []
    },
    {
      "cell_type": "markdown",
      "metadata": {
        "id": "84idQ2_Mm8w-"
      },
      "source": [
        "#### Exercise 2 (5 points)\n",
        "\n",
        "Let's briefly investigate some statistical differences between sneaker and non-sneaker images.\n",
        "\n",
        "1.   Find all sneaker images in `X_train` and compute the mean and standard deviation of the center pixel value across all **sneaker** images. The center pixel is located at position [14, 14].\n",
        "\n",
        "2.   Find all non-sneaker images in `X_train` and compute the mean and standard deviation of the center pixel values across all **non-sneaker** images. The center pixel is located at position [14, 14].\n",
        "\n",
        "3. Repeat 1 and 2 for the pixel located at positon [3, 14]."
      ]
    },
    {
      "cell_type": "markdown",
      "metadata": {
        "id": "JcqNZfrddxff"
      },
      "source": [
        "######Student Solution"
      ]
    },
    {
      "cell_type": "code",
      "metadata": {
        "id": "FblS-OVmns4a"
      },
      "source": [
        "# YOUR CODE HERE (1)\n",
        "sneaker_img_index = np.where(Y_train_binary == 1)\n",
        "sneakers_14_14 = X_train[sneaker_img_index,14,14]\n",
        "\n",
        "sneakers_14_14 = np.array(sneakers_14_14)\n",
        "sneakers_14_14_mean = np.mean(sneakers_14_14)\n",
        "sneakers_14_14_std = np.std(sneakers_14_14)\n",
        "\n",
        "print(\"Sneakers at 14,14:\")\n",
        "print(\"Mean: \", sneakers_14_14_mean)\n",
        "print(\"STD: \", sneakers_14_14_std)\n"
      ],
      "execution_count": null,
      "outputs": []
    },
    {
      "cell_type": "code",
      "source": [
        "# YOUR CODE HERE (2)\n",
        "non_sneakers_img_index = np.where(Y_train_binary!=1)\n",
        "non_sneakers_14_14 = X_train[non_sneakers_img_index,14,14]\n",
        "\n",
        "non_sneakers_14_14 = np.array(non_sneakers_14_14)\n",
        "non_sneakers_14_14_mean = np.mean(non_sneakers_14_14)\n",
        "non_sneakers_14_14_std = np.std(non_sneakers_14_14)\n",
        "\n",
        "print(\"Non-Sneakers at 14,14:\")\n",
        "print(\"Mean: \", non_sneakers_14_14_mean)\n",
        "print(\"STD: \", non_sneakers_14_14_std)"
      ],
      "metadata": {
        "id": "fK7DXdL-sRso"
      },
      "execution_count": null,
      "outputs": []
    },
    {
      "cell_type": "code",
      "source": [
        "# YOUR CODE HERE (3)\n",
        "sneakers_3_14 = X_train[sneaker_img_index,3,14]\n",
        "non_sneakers_3_14 = X_train[non_sneakers_img_index,3,14]\n",
        "\n",
        "sneakers_3_14_mean = np.mean(sneakers_3_14)\n",
        "sneakers_3_14_std = np.std(sneakers_3_14)\n",
        "\n",
        "non_sneakers_3_14_mean = np.mean(non_sneakers_3_14)\n",
        "non_sneakers_3_14_std = np.std(non_sneakers_3_14)\n",
        "\n",
        "print(\"Sneakers at 3,14:\")\n",
        "print(\"Mean: \", sneakers_3_14_mean)\n",
        "print(\"STD: \", sneakers_3_14_std)\n",
        "\n",
        "print(\"\\nNon-Sneakers at 3,14:\")\n",
        "print(\"Mean: \", non_sneakers_3_14_mean)\n",
        "print(\"STD: \", non_sneakers_3_14_std)"
      ],
      "metadata": {
        "id": "Qrp_U6-VsSuY"
      },
      "execution_count": null,
      "outputs": []
    },
    {
      "cell_type": "markdown",
      "metadata": {
        "id": "TGgQ-ASYiHbK"
      },
      "source": [
        "### Baseline\n",
        "\n",
        "When dealing with classification problems, a simple, but useful baseline is to select the *majority* class (the most common label in the training set) and use it as the prediction for all inputs.\n",
        "\n",
        "Our training dataset consists of 6,000 sneaker examples (10%), and 54,000 non-sneaker images (90%), so our majority class baseline classifies everything as *non-sneaker*, and will have an accuracy of 90%. We will see if we can beat this baseline with a trained model."
      ]
    },
    {
      "cell_type": "code",
      "metadata": {
        "id": "ls30LfwsIZCv"
      },
      "source": [
        "print('Number of sneaker images in training set:', (Y_train_binary == 1).sum())\n",
        "print('Number of non-sneaker images in training set:', (Y_train_binary == 0).sum())"
      ],
      "execution_count": null,
      "outputs": []
    },
    {
      "cell_type": "markdown",
      "metadata": {
        "id": "JXNj1z0IlDw_"
      },
      "source": [
        "#### Exercise 3 (5 points)\n",
        "\n",
        "1. Implement a function that computes the Log Loss (binary cross-entropy) metric.\n",
        "2. Use this function to evaluate our baseline on both the train and test data. Use 0.1 as the predicted probability for your baseline (reflecting what we know about the original distribution of classes in our dataset)."
      ]
    },
    {
      "cell_type": "markdown",
      "metadata": {
        "id": "v1PZIOmXhkTB"
      },
      "source": [
        "######Student Solution"
      ]
    },
    {
      "cell_type": "code",
      "metadata": {
        "id": "oFM62C3uhoq_"
      },
      "source": [
        "def log_loss(Y_true, Y_pred):\n",
        "  \"\"\"Returns the binary log loss for a list of labels and predictions.\n",
        "\n",
        "  Args:\n",
        "    Y_true: A list of (true) labels (0 or 1)\n",
        "    Y_pred: A list of corresponding predicted probabilities\n",
        "\n",
        "  Returns:\n",
        "    Binary log loss\n",
        "  \"\"\"\n",
        "  loss = np.mean(-1*(Y_true*np.log(Y_pred)+ (1-Y_true)*np.log(1-Y_pred)))\n",
        "  return np.mean(loss)"
      ],
      "execution_count": null,
      "outputs": []
    },
    {
      "cell_type": "code",
      "source": [
        "# YOUR CODE HERE (2)\n",
        "\n",
        "baseline = 0.1\n",
        "\n",
        "#Training Data\n",
        "train_log_loss = log_loss(Y_train_binary, baseline)\n",
        "print(\"Training data baseline log loss: \", train_log_loss)\n",
        "\n",
        "#Testing Data\n",
        "test_log_loss = log_loss(Y_test_binary, baseline)\n",
        "print(\"Testing data baseline log loss: \", test_log_loss)"
      ],
      "metadata": {
        "id": "zziB6zdC8qsq"
      },
      "execution_count": null,
      "outputs": []
    },
    {
      "cell_type": "markdown",
      "metadata": {
        "id": "35A7So50uc-3"
      },
      "source": [
        "---\n",
        "## Binary Logistic Regression Classification\n",
        "Now that we have our data ready, let's build our binary classifier!\n",
        "\n",
        "Once again, we will use Tensorflow/Keras to build our logistic regression model."
      ]
    },
    {
      "cell_type": "code",
      "metadata": {
        "id": "eaKF1dVEwsJq"
      },
      "source": [
        "def build_model(input_shape, learning_rate=0.1):\n",
        "  \"\"\"Build a TF logistic regression model using Keras.\n",
        "\n",
        "  Args:\n",
        "    input_shape: The shape of the model's input.\n",
        "    learning_rate: The desired learning rate for SGD.\n",
        "\n",
        "  Returns:\n",
        "    model: A tf.keras model (graph).\n",
        "  \"\"\"\n",
        "  # Reset TF and random seed (for reproducible results).\n",
        "  tf.keras.backend.clear_session()\n",
        "  tf.random.set_seed(0)\n",
        "\n",
        "  # Use the Keras Sequential API as before.\n",
        "  model = keras.Sequential()\n",
        "\n",
        "  # Keras layers can do pre-processing. This layer will take our 28x28 images\n",
        "  # and flatten them into vectors of size 784.\n",
        "  model.add(keras.layers.Flatten(input_shape=input_shape))\n",
        "\n",
        "  # This layer constructs the linear set of parameters for each input feature\n",
        "  # (as well as a bias), and applies a sigmoid to the result. The result is\n",
        "  # binary logistic regression.\n",
        "  model.add(keras.layers.Dense(\n",
        "      units=1,                     # output dim (for binary classification)\n",
        "      use_bias=True,               # use a bias param\n",
        "      activation='sigmoid'         # apply the sigmoid function!\n",
        "  ))\n",
        "\n",
        "  # We'll use mini-batch SGD and can specify the batch size later.\n",
        "  optimizer = tf.keras.optimizers.SGD(learning_rate=learning_rate)\n",
        "\n",
        "  # Compile the model.\n",
        "  model.compile(loss='binary_crossentropy',\n",
        "                optimizer=optimizer,\n",
        "                metrics=[metrics.binary_accuracy])\n",
        "\n",
        "  return model"
      ],
      "execution_count": null,
      "outputs": []
    },
    {
      "cell_type": "markdown",
      "metadata": {
        "id": "e9sNzLTFWliB"
      },
      "source": [
        "Let's make sure we can build a model. Before training, the parameters of the model are initialized randomly (this is the default). While the untrained model won't make good predictions, we should still be able to pass data through it and get probability outputs."
      ]
    },
    {
      "cell_type": "code",
      "metadata": {
        "id": "ZrpMK0XfX4-M"
      },
      "source": [
        "# Build the model. Notice that we are passing the shape of our images to\n",
        "# the model, as Keras needs to know the dimension of the input.\n",
        "model = build_model(input_shape=X_train[0].shape)\n",
        "\n",
        "# Make a prediction for five inputs.\n",
        "print(model.predict(X_train[0:5]))"
      ],
      "execution_count": null,
      "outputs": []
    },
    {
      "cell_type": "markdown",
      "metadata": {
        "id": "ymQ3i8aRiCcO"
      },
      "source": [
        "As expected, the outputs look like probabilities (in [0,1]). Once the model is trained, we hope that these predictions correspond to the probability that each input image is a sneaker."
      ]
    },
    {
      "cell_type": "markdown",
      "metadata": {
        "id": "OUQDiYqCh2Ns"
      },
      "source": [
        "### Training\n",
        "Let's train the model. Note that we're using 10% of the training data as a *validation split*. This serves a similar purpose to our test data, allowing us to check for over-fitting during training. We don't use the test data here because we might run lots of experiments, and over time, we might adjust settings to improve results on the validation set. We want to preserve the purity of the test data so we can the cleanest possible evaluation at the end of the experimentation process."
      ]
    },
    {
      "cell_type": "code",
      "metadata": {
        "id": "KkUagTzxpWdr"
      },
      "source": [
        "model = build_model(input_shape=X_train[0].shape, learning_rate=0.1)\n",
        "\n",
        "# Fit the model.\n",
        "history = model.fit(\n",
        "  x = X_train,          # our binary training examples\n",
        "  y = Y_train_binary,   # corresponding binary labels\n",
        "  epochs=5,             # number of passes through the training data\n",
        "  batch_size=64,        # mini-batch size for SGD\n",
        "  validation_split=0.1, # use a fraction of the examples for validation\n",
        "  verbose=1             # display some progress output during training\n",
        "  )\n",
        "\n",
        "# Convert the return value into a DataFrame so we can see the train loss\n",
        "# and binary accuracy after every epoch.\n",
        "history = pd.DataFrame(history.history)\n",
        "display(history)"
      ],
      "execution_count": null,
      "outputs": []
    },
    {
      "cell_type": "markdown",
      "metadata": {
        "id": "eS8lOgCK-0At"
      },
      "source": [
        "Good news! Both training accuracy and validation accuracy are near 98\\% (and the loss should be quite a bit lower than your baseline loss calculation above). This means the classifier is quite a bit better than the majority-class baseline."
      ]
    },
    {
      "cell_type": "markdown",
      "metadata": {
        "id": "p_LVqyl9A41l"
      },
      "source": [
        "### Inference\n",
        "\n",
        "Let's use the trained model to predict probabilities for the test data. We can use `predict` to run *inference*. The probabilities output by the model will be the probability of the positive class."
      ]
    },
    {
      "cell_type": "code",
      "metadata": {
        "id": "t0PU3br4-zv8"
      },
      "source": [
        "# The result of model.predict has an extra dimension, so we flatten to get a\n",
        "# vector of predictions.\n",
        "test_predictions = model.predict(X_test).flatten()\n",
        "print(test_predictions.shape)\n",
        "print(test_predictions)"
      ],
      "execution_count": null,
      "outputs": []
    },
    {
      "cell_type": "markdown",
      "metadata": {
        "id": "iJj_VCR_AGrM"
      },
      "source": [
        "Now that we have probabilities for all images in `X_test`, let's evaluate how well the model performed on our test set.\n",
        "\n",
        "\n",
        "\n"
      ]
    },
    {
      "cell_type": "markdown",
      "metadata": {
        "id": "e9hk2vg9A1dm"
      },
      "source": [
        "### Evaluation\n",
        "To turn probabilities into binary predictions, we need to choose a classification threshold. A probability greater than or equal to threshold indicates class *sneaker*, while a value less than the threshold indicates class *non-sneaker*. Once we have binary predictions, we can evaluate performance with some different metrics.\n",
        "\n",
        "A **true positive** is an outcome where the model correctly predicts the positive class. Similarly, a **true negative** is an outcome where the model correctly predicts the negative class.\n",
        "\n",
        "A **false positive** is an outcome where the model incorrectly predicts the positive class. And a **false negative** is an outcome where the model incorrectly predicts the negative class.\n",
        "\n",
        "Using these, we can construct a **confusion matrix**, a table that summarizes performance using these 4 result categories.\n",
        "\n",
        "|                     | Sneaker (Predicted)    | Non-Sneaker (Predicted) |\n",
        "|---------------------|-----------------|------------------|\n",
        "| **Sneaker (Actual)**     | Number of True Positives  | Number of False Negatives  |\n",
        "| **Non-Sneaker (Actual)** | Number of False Positives | Number of True Negatives   |\n"
      ]
    },
    {
      "cell_type": "markdown",
      "metadata": {
        "id": "jc9RWUR2I_i_"
      },
      "source": [
        "**Accuracy** is the fraction of examples our model classified correctly (correct / total):\n",
        "\n",
        "\\begin{equation}\n",
        "Accuracy = \\frac{TP + TN}{TP + TN + FP + FN}\n",
        "\\end{equation}\n",
        "\n",
        "**Precision** is the proportion of positive predictions that were actually correct:\n",
        "\n",
        "\\begin{equation}\n",
        "Precision = \\frac{TP}{TP + FP}\n",
        "\\end{equation}\n",
        "\n",
        "**Recall** is the proportion of actual positives that were predicted correctly:\n",
        "\n",
        "\\begin{equation}\n",
        "Recall = \\frac{TP}{TP + FN}\n",
        "\\end{equation}\n",
        "\n",
        "Changing the threshold will change precision and recall, typically with a trade-off: improving precision reduces recall (and vice-versa)."
      ]
    },
    {
      "cell_type": "markdown",
      "metadata": {
        "id": "Ck0yxzxx9Qww"
      },
      "source": [
        "#### Exercise 4 (5 points)\n",
        "\n",
        "\n",
        "Do the following for each of these classification thresholds [0.1, 0.3, 0.5, 0.7, 0.9] using the `test_predictions` (predicted probabilities) and `Y_test_binary` (actual labels):\n",
        "\n",
        "1.   Compute and print counts of [TP, TN, FP, FN], corresponding to the confusion matrix.\n",
        "2.   Compute and print the accuracy, precision, and recall.\n",
        "\n",
        "*Hint: `(test_predictions >= threshold) * 1` gives the predicted labels using a given threshold.*\n",
        "\n",
        "**You are not allowed to use other libraries that calculate these metrics for you, but you can use functions e.g. [`numpy.logical_and()`](https://numpy.org/doc/stable/reference/generated/numpy.logical_and.html) to help make computations easier.**"
      ]
    },
    {
      "cell_type": "markdown",
      "metadata": {
        "id": "x1in_c_CjVtz"
      },
      "source": [
        "######Student Solution"
      ]
    },
    {
      "cell_type": "code",
      "metadata": {
        "id": "Ppmrnh0-jY7-"
      },
      "source": [
        "# YOUR CODE HERE\n",
        "thresholds = [0.1, 0.3, 0.5, 0.7, 0.9]\n",
        "\n",
        "for threshold in thresholds:\n",
        "    # Calculate predicted labels using the threshold\n",
        "    predicted_labels = (test_predictions >= threshold) * 1\n",
        "\n",
        "    # Confusion matrix\n",
        "    TP = np.sum(np.logical_and(predicted_labels == 1, Y_test_binary == 1))\n",
        "    TN = np.sum(np.logical_and(predicted_labels == 0, Y_test_binary == 0))\n",
        "    FP = np.sum(np.logical_and(predicted_labels == 1, Y_test_binary == 0))\n",
        "    FN = np.sum(np.logical_and(predicted_labels == 0, Y_test_binary == 1))\n",
        "\n",
        "    print(f\"Threshold: {threshold}:\")\n",
        "    print(f\"TP={TP}\\nTN={TN}\\nFP={FP}\\nFN={FN}\")\n",
        "\n",
        "    # Accuracy\n",
        "    accuracy = (TP + TN) / (TP + TN + FP + FN)\n",
        "    # Precision\n",
        "    precision = TP / (TP + FP)\n",
        "    # Recall\n",
        "    recall = TP / (TP + FN)\n",
        "\n",
        "    print(f\"Accuracy: {accuracy:}\")\n",
        "    print(f\"Precision: {precision:}\")\n",
        "    print(f\"Recall: {recall:}\\n\")\n"
      ],
      "execution_count": null,
      "outputs": []
    },
    {
      "cell_type": "markdown",
      "metadata": {
        "id": "epIqYiQhQpJC"
      },
      "source": [
        "### Analyze Classification Mistakes\n",
        "\n",
        "Our model is not perfect. Regardless of the classification threshold we choose, it misclassifies some images. Let's take a look at some of the images that our model misclassified."
      ]
    },
    {
      "cell_type": "markdown",
      "metadata": {
        "id": "DLK2zFv2SWAy"
      },
      "source": [
        "#### Exercise 5 (5 points)\n",
        "\n",
        "1.   Display 5 images that were erroneously classified as sneaker (threshold = 0.5).\n",
        "2.   Display 5 images that were erroneously classified as non-sneaker (threshold = 0.5).\n",
        "\n"
      ]
    },
    {
      "cell_type": "markdown",
      "metadata": {
        "id": "edFmzn2KlSLt"
      },
      "source": [
        "######Student Solution"
      ]
    },
    {
      "cell_type": "code",
      "metadata": {
        "id": "xUZfCG1ylVtp"
      },
      "source": [
        "# YOUR CODE HERE\n",
        "\n",
        "predicted_labels = (test_predictions >= 0.5) * 1\n",
        "FP = np.where(np.logical_and(predicted_labels == 1, Y_test_binary == 0))\n",
        "FP = FP[0]\n",
        "\n",
        "\n",
        "fig, axs = plt.subplots(nrows=1, ncols=5, figsize=(7,3))\n",
        "plt.suptitle('Erroneously classified as sneaker')\n",
        "for i in range(5):\n",
        "  image = X_test[FP[i]]\n",
        "  label = label_names[Y_test[FP[i]]]\n",
        "  axs[i].imshow(image, cmap='gray')  # imshow renders a 2D grid\n",
        "  axs[i].set_title(label)\n",
        "  axs[i].axis('off')\n",
        "plt.show()\n",
        "\n",
        "print(\"\")\n",
        "FN = np.where(np.logical_and(predicted_labels == 0, Y_test_binary == 1))\n",
        "FN = FN[0]\n",
        "\n",
        "fig, axs = plt.subplots(nrows=1, ncols=5, figsize=(7,3))\n",
        "plt.suptitle('Erroneously classified as non-sneaker')\n",
        "for i in range(5):\n",
        "  image = X_test[FN[i]]\n",
        "  label = label_names[Y_test[FN[i]]]\n",
        "  axs[i].imshow(image, cmap='gray')  # imshow renders a 2D grid\n",
        "  axs[i].set_title(label)\n",
        "  axs[i].axis('off')\n",
        "plt.show()"
      ],
      "execution_count": null,
      "outputs": []
    },
    {
      "cell_type": "markdown",
      "metadata": {
        "id": "j2OdfC1Tg41L"
      },
      "source": [
        "---\n",
        "## Multiclass Classification\n",
        "\n",
        "We are now ready for the full multi-class case. Instead of using `Y_train_binary` and `Y_test_binary`, we'll use the original labels `Y_train` and `Y_test`."
      ]
    },
    {
      "cell_type": "markdown",
      "metadata": {
        "id": "ACajGde9maBP"
      },
      "source": [
        "### Cross-Entropy Loss\n",
        "\n",
        "Recall the log loss function (above), where $y$ is either 0 or 1:\n",
        "\n",
        "\\begin{equation}\n",
        "-y \\log(\\hat{y}) + (1−y)\\log(1−\\hat{y})\n",
        "\\end{equation}\n",
        "\n",
        "The **general** form for cross-entropy loss is used when $y$ is assumed to be a one-hot label vector with a 1 in the index of the true label and a 0 everywhere else. For example, $y=[0,0,0,0,0,0,0,1,0,0]$ implies a label of \"sneaker\" in this dataset (the idx=7 label). Accordingly, $\\hat{y}$ is a vector of predicted probabilities. Then the cross-entropy loss is simply:\n",
        "\n",
        "\\begin{equation}\n",
        "-\\sum_{j} y_j \\log(\\hat{y}_j)\n",
        "\\end{equation}\n",
        "\n",
        "As in the binary case, this summation will have exactly 1 non-zero term where the true label $y_j=1$.\n",
        "\n",
        "Note that this formulation is using a *dense* representation of the label. The corresponding *sparse* representation would use the non-zero index directly ($y=7$)."
      ]
    },
    {
      "cell_type": "markdown",
      "metadata": {
        "id": "ahQ077qznVcj"
      },
      "source": [
        "#### Exercise 6 (5 points)\n",
        "\n",
        "Fill in the `NotImplemented` parts of the `build_softmax_model` function below. You will need to make the following changes to generalize the binary case to the multi-class case:\n",
        "* The output (\"units\" variable) will have *one* probability for *each* class (Hint: how many classes are there?)\n",
        "* Use a softmax function instead of a sigmoid function to normalize output scores to a probability distribution. You can look up different activation functions in the [official documentation](https://www.tensorflow.org/api_docs/python/tf/keras/activations/softmax).\n",
        "* Use a [`sparse_categorical_crossentropy`](https://www.tensorflow.org/api_docs/python/tf/keras/losses/sparse_categorical_crossentropy) loss instead of `binary_crossentropy` loss. Note that \"sparse\" refers to the use of a sparse index (e.g. 7) to indicate the label rather than a dense vector (e.g. [0,0,0,0,0,0,0,1,0,0]).\n",
        "\n",
        "Check that training works below."
      ]
    },
    {
      "cell_type": "markdown",
      "metadata": {
        "id": "LynMiGMJnvRy"
      },
      "source": [
        "##### Student Solution"
      ]
    },
    {
      "cell_type": "code",
      "metadata": {
        "id": "Q_e5s-mmnuHh"
      },
      "source": [
        "# Replace `NotImplemented` code below\n",
        "def build_softmax_model(input_shape, n_classes, learning_rate=0.1):\n",
        "  \"\"\"Build a TF logistic regression model using Keras.\n",
        "\n",
        "  Args:\n",
        "    input_shape: The shape of the model's input.\n",
        "    n_classes: Number of classes in dataset\n",
        "    learning_rate: The desired learning rate for SGD.\n",
        "\n",
        "  Returns:\n",
        "    model: A tf.keras model (graph).\n",
        "  \"\"\"\n",
        "  tf.keras.backend.clear_session()\n",
        "  tf.random.set_seed(0)\n",
        "\n",
        "  model = keras.Sequential()\n",
        "  model.add(keras.layers.Flatten(input_shape=input_shape))\n",
        "  model.add(keras.layers.Dense(\n",
        "      units=n_classes,\n",
        "      activation='softmax'\n",
        "  ))\n",
        "\n",
        "  optimizer = tf.keras.optimizers.SGD(learning_rate=learning_rate)\n",
        "  model.compile(loss='sparse_categorical_crossentropy',\n",
        "                optimizer=optimizer,\n",
        "                metrics=['accuracy'])\n",
        "  return model"
      ],
      "execution_count": null,
      "outputs": []
    },
    {
      "cell_type": "markdown",
      "metadata": {
        "id": "ycSLW8WToiHt"
      },
      "source": [
        "### Training\n",
        "\n",
        "Train your model. If implemented correctly, you should reach validation accuracy of ~0.838 after 5 epochs."
      ]
    },
    {
      "cell_type": "code",
      "metadata": {
        "id": "urYN2xZooCoo"
      },
      "source": [
        "softmax_model = build_softmax_model(X_train[0].shape, len(label_names), 0.1)\n",
        "\n",
        "softmax_history = softmax_model.fit(\n",
        "  x = X_train,\n",
        "  y = Y_train,\n",
        "  epochs=5,\n",
        "  batch_size=64,\n",
        "  validation_split=0.1,\n",
        "  verbose=1)\n",
        "\n",
        "softmax_history = pd.DataFrame(softmax_history.history)\n",
        "display(softmax_history)"
      ],
      "execution_count": null,
      "outputs": []
    },
    {
      "cell_type": "markdown",
      "metadata": {
        "id": "58tlV8FXAw8O"
      },
      "source": [
        "### Inference\n",
        "\n",
        "As in the binary case, we can use our trained model to predict probabilities for new examples. Now that we have an output distribution over 10 class, the `predict` function will produce the corresponding 10 probabilities. We can use `argmax` to select the index of the highest probability."
      ]
    },
    {
      "cell_type": "code",
      "metadata": {
        "id": "p9zwwg74BstQ"
      },
      "source": [
        "# Recall that model.predict gives a vector of probabilities for each x.\n",
        "# Get labels by taking the argmax -- the index with the largest probability.\n",
        "softmax_test_predictions = np.argmax(softmax_model.predict(X_test), axis=-1)\n",
        "print(softmax_test_predictions)"
      ],
      "execution_count": null,
      "outputs": []
    },
    {
      "cell_type": "markdown",
      "metadata": {
        "id": "BU8mkhmbCukm"
      },
      "source": [
        "### Evaluation\n",
        "\n",
        "Overall accuracy gives a very limited picture of the model's performance. A confusion matrix gives a much deeper summary."
      ]
    },
    {
      "cell_type": "code",
      "metadata": {
        "id": "gsPjb7ddDB0-"
      },
      "source": [
        "# Create a confusion matrix as a 2D array.\n",
        "softmax_confusion_matrix = tf.math.confusion_matrix(Y_test,\n",
        "                                                    softmax_test_predictions)\n",
        "\n",
        "# Use a heatmap plot to display it.\n",
        "ax = sns.heatmap(softmax_confusion_matrix, annot=True, fmt='.3g', cmap='Blues',\n",
        "                 xticklabels=label_names, yticklabels=label_names, cbar=False)\n",
        "\n",
        "# Add axis labels.\n",
        "ax.set(xlabel='Predicted Label', ylabel='True Label')\n",
        "plt.show()"
      ],
      "execution_count": null,
      "outputs": []
    },
    {
      "cell_type": "markdown",
      "metadata": {
        "id": "jddd03ngDZii"
      },
      "source": [
        "---\n",
        "## Feed Forward Neural Network Classification\n",
        "\n",
        "We're now ready to build our first neural network. By creating a more complex model (by adding additional \"layers\" to our model structure), we should be able to achieve even better performance."
      ]
    },
    {
      "cell_type": "markdown",
      "metadata": {
        "id": "BwrSQ-QrGyQh"
      },
      "source": [
        "### Exercise 7 (5 points)\n",
        "\n",
        "Fill in the implementation of the `build_ffnn_softmax_model` function below. This will be almost identical to `build_softmax_model` (above), but should include **2 hidden layers**, each with **128 units**, and each using a **relu activation**."
      ]
    },
    {
      "cell_type": "markdown",
      "metadata": {
        "id": "yY-b4MxJdVvy"
      },
      "source": [
        "##### Student Solution"
      ]
    },
    {
      "cell_type": "code",
      "metadata": {
        "id": "VEv0mjEgDgvf"
      },
      "source": [
        "def build_ffnn_softmax_model(input_shape, n_classes, learning_rate=0.1):\n",
        "  \"\"\"Build a TF feed-forward neural network model using Keras.\n",
        "\n",
        "  Args:\n",
        "    input_shape: The shape of the model's input.\n",
        "    n_classes: Number of classes in dataset\n",
        "    learning_rate: The desired learning rate for SGD.\n",
        "\n",
        "  Returns:\n",
        "    model: A tf.keras model (graph).\n",
        "  \"\"\"\n",
        "  tf.keras.backend.clear_session()\n",
        "  tf.random.set_seed(0)\n",
        "\n",
        "  model = keras.Sequential()\n",
        "\n",
        "  # YOUR CODE HERE\n",
        "\n",
        "  # TODO: Input to neural network using keras.layers.Flatten()\n",
        "  model.add(tf.keras.layers.Flatten(input_shape=input_shape))\n",
        "\n",
        "  # TODO: keras.layers.Dense() layer w/ 128 units and ReLU activation\n",
        "  model.add(tf.keras.layers.Dense(units=128,activation='relu'))\n",
        "\n",
        "  # TODO: keras.layers.Dense() layer w/ 128 units and ReLU activation\n",
        "  model.add(tf.keras.layers.Dense(units=128,activation='relu'))\n",
        "\n",
        "  # TODO: Final output layer using keras.layers.Dense()\n",
        "  model.add(tf.keras.layers.Dense(units=n_classes, activation='softmax'))\n",
        "\n",
        "  optimizer = tf.keras.optimizers.SGD(learning_rate=learning_rate)\n",
        "  model.compile(loss='sparse_categorical_crossentropy',\n",
        "                optimizer=optimizer,\n",
        "                metrics=['accuracy'])\n",
        "\n",
        "  return model"
      ],
      "execution_count": null,
      "outputs": []
    },
    {
      "cell_type": "markdown",
      "metadata": {
        "id": "sZUqyrAcHr0j"
      },
      "source": [
        "### Training\n",
        "\n",
        "Train your model. If implemented correctly, you should reach validation accuracy of ~0.867 after 5 epochs."
      ]
    },
    {
      "cell_type": "code",
      "metadata": {
        "id": "_-DEOHFjDy79"
      },
      "source": [
        "ffnn_softmax_model = build_ffnn_softmax_model(\n",
        "    X_train[0].shape, len(label_names), 0.1)\n",
        "\n",
        "ffnn_softmax_history = ffnn_softmax_model.fit(\n",
        "  x = X_train,\n",
        "  y = Y_train,\n",
        "  epochs=5,\n",
        "  batch_size=64,\n",
        "  validation_split=0.1,\n",
        "  verbose=1)\n",
        "\n",
        "ffnn_softmax_history = pd.DataFrame(ffnn_softmax_history.history)\n",
        "display(ffnn_softmax_history)"
      ],
      "execution_count": null,
      "outputs": []
    },
    {
      "cell_type": "code",
      "metadata": {
        "id": "z_MUJlLn1O3y"
      },
      "source": [
        "# Print a summary of the model's layers and parameters.\n",
        "ffnn_softmax_model.summary()"
      ],
      "execution_count": null,
      "outputs": []
    },
    {
      "cell_type": "markdown",
      "metadata": {
        "id": "XgIkNTfceTq0"
      },
      "source": [
        "### Evaluation\n",
        "\n",
        "Let's compare the confusion matrices for the linear model (`softmax_model`) and the neural network model (`ffnn_softmax_model`) to see which specific confusions are fixed by the improved model."
      ]
    },
    {
      "cell_type": "code",
      "metadata": {
        "id": "kHvk6UyPFz0s"
      },
      "source": [
        "ffnn_softmax_test_predictions = np.argmax(\n",
        "    ffnn_softmax_model.predict(X_test), axis=-1)\n",
        "\n",
        "# Create a confusion matrix as a 2D array.\n",
        "ffnn_softmax_confusion_matrix = tf.math.confusion_matrix(\n",
        "    Y_test, ffnn_softmax_test_predictions)\n",
        "\n",
        "# Use a heatmap plot to display it.\n",
        "diff_confusion_matrix = ffnn_softmax_confusion_matrix - softmax_confusion_matrix\n",
        "ax = sns.heatmap(diff_confusion_matrix, annot=True, fmt='.3g', cmap='Blues',\n",
        "                 xticklabels=label_names, yticklabels=label_names, cbar=False)\n",
        "\n",
        "# Add axis labels.\n",
        "ax.set(xlabel='Predicted Label', ylabel='True Label')\n",
        "plt.show()"
      ],
      "execution_count": null,
      "outputs": []
    },
    {
      "cell_type": "markdown",
      "metadata": {
        "id": "O-hdlgW1kqjK"
      },
      "source": [
        "#### Exercise 8 (5 points)\n",
        "\n",
        "a. In this confusion matrix of differences, what do the diagonal values represent, and what do the off-diagonal values represent?\n",
        "\n",
        "b. Which confused pair is most improved by the neural network model?"
      ]
    },
    {
      "cell_type": "markdown",
      "metadata": {
        "id": "WQ54ifXQlaV5"
      },
      "source": [
        "##### Student Solution"
      ]
    },
    {
      "cell_type": "markdown",
      "metadata": {
        "id": "OnxQK5U4li9M"
      },
      "source": [
        "a. In general with a confusion matrix, the diagonal represent correct predictions made by the model. However this confusion matrix is one which reflects the difference between the ffnn_softmax_confusion_matrix and softmax_confusion_matrix hence the diagonal represent the improvement (difference) in correct predictions for each class using the ffnn_softmax model instead of the softmax model. Normally, the off-diagonal values represent the missclassifications made by the model, hence for this matrix, the off-diagonal values would represent the difference in misclassifications between the two confusion matrices.  \n",
        "\n",
        "b. Based on the confusion matrix which was presented when I ran the models, the most improved confusion pair is \"pullover,shirt\" in the format \"true_label,predicted_label\"\n",
        "\n",
        "Confusion Matrix supporting answer for part b.\n",
        "\n",
        " ![image.png](data:image/png;base64,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)\n"
      ]
    },
    {
      "cell_type": "code",
      "source": [],
      "metadata": {
        "id": "Rp1x3eITCx3u"
      },
      "execution_count": null,
      "outputs": []
    }
  ]
}